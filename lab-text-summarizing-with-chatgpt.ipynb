{
 "cells": [
  {
   "cell_type": "markdown",
   "metadata": {},
   "source": [
    "# Text summarizing with ChaptGPT\n",
    "In this lesson, you will summarize text with a focus on specific topics.\n",
    "\n",
    "## Setup"
   ]
  },
  {
   "cell_type": "code",
   "execution_count": 5,
   "metadata": {
    "tags": []
   },
   "outputs": [],
   "source": [
    "from openai import OpenAI\n",
    "import os\n",
    "\n",
    "from dotenv import load_dotenv, find_dotenv\n",
    "_ = load_dotenv(find_dotenv()) # read local .env file\n",
    "\n",
    "OPENAI_API_KEY  = os.getenv('OPENAI_API_KEY')"
   ]
  },
  {
   "cell_type": "code",
   "execution_count": 6,
   "metadata": {
    "tags": []
   },
   "outputs": [],
   "source": [
    "client = OpenAI(\n",
    "    # This is the default and can be omitted\n",
    "    api_key=OPENAI_API_KEY,\n",
    ")\n",
    "\n",
    "\n",
    "def get_completion(prompt, model=\"gpt-3.5-turbo\"): # Andrew mentioned that the prompt/ completion paradigm is preferable for this class\n",
    "    messages = [{\"role\": \"user\", \"content\": prompt}]\n",
    "    response = client.chat.completions.create(\n",
    "        model=model,\n",
    "        messages=messages,\n",
    "        temperature=0, # this is the degree of randomness of the model's output\n",
    "    )\n",
    "    return response.choices[0].message.content\n"
   ]
  },
  {
   "cell_type": "markdown",
   "metadata": {},
   "source": [
    "## Text to summarize"
   ]
  },
  {
   "cell_type": "code",
   "execution_count": 7,
   "metadata": {
    "tags": []
   },
   "outputs": [],
   "source": [
    "prod_review = \"\"\"\n",
    "Got this panda plush toy for my daughter's birthday, \\\n",
    "who loves it and takes it everywhere. It's soft and \\ \n",
    "super cute, and its face has a friendly look. It's \\ \n",
    "a bit small for what I paid though. I think there \\ \n",
    "might be other options that are bigger for the \\ \n",
    "same price. It arrived a day earlier than expected, \\ \n",
    "so I got to play with it myself before I gave it \\ \n",
    "to her.\n",
    "\"\"\""
   ]
  },
  {
   "cell_type": "markdown",
   "metadata": {},
   "source": [
    "## Summarize with a word/sentence/character limit"
   ]
  },
  {
   "cell_type": "code",
   "execution_count": 8,
   "metadata": {
    "tags": []
   },
   "outputs": [
    {
     "name": "stdout",
     "output_type": "stream",
     "text": [
      "Summary: \n",
      "Soft and cute panda plush toy loved by daughter, but smaller than expected for the price. Arrived early, allowing for personal enjoyment before gifting.\n"
     ]
    }
   ],
   "source": [
    "prompt = f\"\"\"\n",
    "Your task is to generate a short summary of a product \\\n",
    "review from an ecommerce site. \n",
    "\n",
    "Summarize the review below, delimited by triple \n",
    "backticks, in at most 30 words. \n",
    "\n",
    "Review: ```{prod_review}```\n",
    "\"\"\"\n",
    "\n",
    "response = get_completion(prompt)\n",
    "print(response)\n"
   ]
  },
  {
   "cell_type": "markdown",
   "metadata": {},
   "source": [
    "## Summarize with a focus on shipping and delivery"
   ]
  },
  {
   "cell_type": "code",
   "execution_count": 9,
   "metadata": {
    "tags": []
   },
   "outputs": [
    {
     "name": "stdout",
     "output_type": "stream",
     "text": [
      "The customer was pleased with the early delivery of the panda plush toy, but felt it was slightly small for the price paid.\n"
     ]
    }
   ],
   "source": [
    "prompt = f\"\"\"\n",
    "Your task is to generate a short summary of a product \\\n",
    "review from an ecommerce site to give feedback to the \\\n",
    "Shipping deparmtment. \n",
    "\n",
    "Summarize the review below, delimited by triple \n",
    "backticks, in at most 30 words, and focusing on any aspects \\\n",
    "that mention shipping and delivery of the product. \n",
    "\n",
    "Review: ```{prod_review}```\n",
    "\"\"\"\n",
    "\n",
    "response = get_completion(prompt)\n",
    "print(response)\n"
   ]
  },
  {
   "cell_type": "markdown",
   "metadata": {},
   "source": [
    "## Summarize with a focus on price and value"
   ]
  },
  {
   "cell_type": "code",
   "execution_count": 10,
   "metadata": {
    "tags": []
   },
   "outputs": [
    {
     "name": "stdout",
     "output_type": "stream",
     "text": [
      "The panda plush toy is loved for its softness and cuteness, but some customers feel it's a bit small for the price.\n"
     ]
    }
   ],
   "source": [
    "prompt = f\"\"\"\n",
    "Your task is to generate a short summary of a product \\\n",
    "review from an ecommerce site to give feedback to the \\\n",
    "pricing deparmtment, responsible for determining the \\\n",
    "price of the product.  \n",
    "\n",
    "Summarize the review below, delimited by triple \n",
    "backticks, in at most 30 words, and focusing on any aspects \\\n",
    "that are relevant to the price and perceived value. \n",
    "\n",
    "Review: ```{prod_review}```\n",
    "\"\"\"\n",
    "\n",
    "response = get_completion(prompt)\n",
    "print(response)\n"
   ]
  },
  {
   "cell_type": "markdown",
   "metadata": {},
   "source": [
    "#### Comment\n",
    "- Summaries include topics that are not related to the topic of focus."
   ]
  },
  {
   "cell_type": "markdown",
   "metadata": {},
   "source": [
    "## Try \"extract\" instead of \"summarize\""
   ]
  },
  {
   "cell_type": "code",
   "execution_count": 11,
   "metadata": {
    "tags": []
   },
   "outputs": [
    {
     "name": "stdout",
     "output_type": "stream",
     "text": [
      "Feedback: The product arrived a day earlier than expected, which was a pleasant surprise. Consider offering larger options for the same price to improve customer satisfaction.\n"
     ]
    }
   ],
   "source": [
    "prompt = f\"\"\"\n",
    "Your task is to extract relevant information from \\ \n",
    "a product review from an ecommerce site to give \\\n",
    "feedback to the Shipping department. \n",
    "\n",
    "From the review below, delimited by triple quotes \\\n",
    "extract the information relevant to shipping and \\ \n",
    "delivery. Limit to 30 words. \n",
    "\n",
    "Review: ```{prod_review}```\n",
    "\"\"\"\n",
    "\n",
    "response = get_completion(prompt)\n",
    "print(response)"
   ]
  },
  {
   "cell_type": "markdown",
   "metadata": {},
   "source": [
    "## Summarize multiple product reviews"
   ]
  },
  {
   "cell_type": "code",
   "execution_count": 12,
   "metadata": {
    "tags": []
   },
   "outputs": [],
   "source": [
    "\n",
    "review_1 = prod_review \n",
    "\n",
    "# review for a standing lamp\n",
    "review_2 = \"\"\"\n",
    "Needed a nice lamp for my bedroom, and this one \\\n",
    "had additional storage and not too high of a price \\\n",
    "point. Got it fast - arrived in 2 days. The string \\\n",
    "to the lamp broke during the transit and the company \\\n",
    "happily sent over a new one. Came within a few days \\\n",
    "as well. It was easy to put together. Then I had a \\\n",
    "missing part, so I contacted their support and they \\\n",
    "very quickly got me the missing piece! Seems to me \\\n",
    "to be a great company that cares about their customers \\\n",
    "and products. \n",
    "\"\"\"\n",
    "\n",
    "# review for an electric toothbrush\n",
    "review_3 = \"\"\"\n",
    "My dental hygienist recommended an electric toothbrush, \\\n",
    "which is why I got this. The battery life seems to be \\\n",
    "pretty impressive so far. After initial charging and \\\n",
    "leaving the charger plugged in for the first week to \\\n",
    "condition the battery, I've unplugged the charger and \\\n",
    "been using it for twice daily brushing for the last \\\n",
    "3 weeks all on the same charge. But the toothbrush head \\\n",
    "is too small. I’ve seen baby toothbrushes bigger than \\\n",
    "this one. I wish the head was bigger with different \\\n",
    "length bristles to get between teeth better because \\\n",
    "this one doesn’t.  Overall if you can get this one \\\n",
    "around the $50 mark, it's a good deal. The manufactuer's \\\n",
    "replacements heads are pretty expensive, but you can \\\n",
    "get generic ones that're more reasonably priced. This \\\n",
    "toothbrush makes me feel like I've been to the dentist \\\n",
    "every day. My teeth feel sparkly clean! \n",
    "\"\"\"\n",
    "\n",
    "# review for a blender\n",
    "review_4 = \"\"\"\n",
    "So, they still had the 17 piece system on seasonal \\\n",
    "sale for around $49 in the month of November, about \\\n",
    "half off, but for some reason (call it price gouging) \\\n",
    "around the second week of December the prices all went \\\n",
    "up to about anywhere from between $70-$89 for the same \\\n",
    "system. And the 11 piece system went up around $10 or \\\n",
    "so in price also from the earlier sale price of $29. \\\n",
    "So it looks okay, but if you look at the base, the part \\\n",
    "where the blade locks into place doesn’t look as good \\\n",
    "as in previous editions from a few years ago, but I \\\n",
    "plan to be very gentle with it (example, I crush \\\n",
    "very hard items like beans, ice, rice, etc. in the \\ \n",
    "blender first then pulverize them in the serving size \\\n",
    "I want in the blender then switch to the whipping \\\n",
    "blade for a finer flour, and use the cross cutting blade \\\n",
    "first when making smoothies, then use the flat blade \\\n",
    "if I need them finer/less pulpy). Special tip when making \\\n",
    "smoothies, finely cut and freeze the fruits and \\\n",
    "vegetables (if using spinach-lightly stew soften the \\ \n",
    "spinach then freeze until ready for use-and if making \\\n",
    "sorbet, use a small to medium sized food processor) \\ \n",
    "that you plan to use that way you can avoid adding so \\\n",
    "much ice if at all-when making your smoothie. \\\n",
    "After about a year, the motor was making a funny noise. \\\n",
    "I called customer service but the warranty expired \\\n",
    "already, so I had to buy another one. FYI: The overall \\\n",
    "quality has gone done in these types of products, so \\\n",
    "they are kind of counting on brand recognition and \\\n",
    "consumer loyalty to maintain sales. Got it in about \\\n",
    "two days.\n",
    "\"\"\"\n",
    "\n",
    "reviews = [review_1, review_2, review_3, review_4]"
   ]
  },
  {
   "cell_type": "code",
   "execution_count": 13,
   "metadata": {
    "tags": []
   },
   "outputs": [
    {
     "name": "stdout",
     "output_type": "stream",
     "text": [
      "0 Soft, cute panda plush loved by daughter, but small for price. Arrived early, friendly face. \n",
      "\n",
      "1 Summary: \n",
      "Affordable lamp with storage, fast delivery, excellent customer service for missing parts. Great company. \n",
      "\n",
      "2 Impressive battery life, small brush head, good deal for $50, generic replacement heads available, leaves teeth feeling clean. \n",
      "\n",
      "3 Summary: Price increased post-sale, quality decline, motor issue after a year, freezing fruits for smoothies tip. \n",
      "\n"
     ]
    }
   ],
   "source": [
    "for i in range(len(reviews)):\n",
    "    prompt = f\"\"\"\n",
    "    Your task is to generate a short summary of a product \\ \n",
    "    review from an ecommerce site. \n",
    "\n",
    "    Summarize the review below, delimited by triple \\\n",
    "    backticks in at most 20 words. \n",
    "\n",
    "    Review: ```{reviews[i]}```\n",
    "    \"\"\"\n",
    "\n",
    "    response = get_completion(prompt)\n",
    "    print(i, response, \"\\n\")"
   ]
  },
  {
   "cell_type": "markdown",
   "metadata": {},
   "source": [
    "# Exercise\n",
    " - Complete the prompts similar to what we did in class. \n",
    "     - Try at least 3 versions\n",
    "     - Be creative\n",
    " - Write a one page report summarizing your findings.\n",
    "     - Were there variations that didn't work well? i.e., where GPT either hallucinated or wrong\n",
    " - What did you learn?"
   ]
  },
  {
   "cell_type": "code",
   "execution_count": 14,
   "metadata": {},
   "outputs": [
    {
     "name": "stdout",
     "output_type": "stream",
     "text": [
      "\n",
      "Version 1 Summary:\n",
      "If humans and aliens were to become friends, it could lead to significant positive and negative impacts on our world. On a positive note, such an intergalactic relationship could bring forth scientific advancements, knowledge sharing, medical breakthroughs, and potentially lead to the solution of energy crises and cures for long-standing diseases. It could also prompt cultural exchanges, thereby sparking a new era of unity and global peace as humanity understands its small existence within the universe. However, such a friendship could also lead to detrimental outcomes. If the alien species surpasses us in intelligence or technology, humans may become overly dependent on them, risking our independence and identity. Political tensions could ensue as nations vie for alien alliances, possibly escalating into wars. Some humans might resist or fear alien integration, causing societal division and unrest. Moreover, should the aliens harbor concealed intentions, their perceived friendship could evolve into surreptitious control or exploitation. Ultimately, the outcome of such a cosmic relationship would be contingent upon both species' intentions and our wisdom in managing this relationship.\n",
      "\n",
      "Version 2 Summary:\n",
      "- If humans and aliens became friends, this could lead to major impacts on our world, both positive and negative.\n",
      "- On the positive side, scientific advancements, knowledge sharing, and medical miracles could occur.\n",
      "- Aliens could potentially help us solve energy crises, explore distant galaxies, and cure diseases that have troubled humanity for centuries.\n",
      "- Intergalactic friendships could create a new era of unity, expanded worldviews, and global peace, as humans comprehend our place in the universe.\n",
      "- However, on the negative side, such friendships could pose existential threats to humanity.\n",
      "- If aliens are more intelligent or technologically advanced, humans could lose independence and identity through dependence on them.\n",
      "- There may be political tensions between nations competing for alliances with extraterrestrials, leading to conflicts or wars.\n",
      "- Resistance or fear of alien integration could cause societal division and unrest.\n",
      "- If aliens hold hidden intentions, their “friendship” may turn into control or exploitation.\n",
      "- In conclusion, the outcomes of an alien-human friendship would depend on the intentions of both species and their ability to navigate the relationship wisely.\n",
      "\n",
      "Version 3 Summary:\n",
      "If we made friends with aliens, things for us on earth could be amazing and scary at the same time. Good things could happen, like learning new science stuff, sharing what we know, and maybe cure illnesses that people have had for a long time. Aliens could help us figure out our energy problems, check out far away galaxies or even help cure diseases that we've had for hundreds of years. We could even get to know each other's cultures which would help us get along better with each other, understand our small role in the universe and help bring world peace.\n",
      "\n",
      "But, there could also be bad stuff that could happen. If the aliens are a lot smarter or have better gadgets than us, we might rely on them too much and lose our way. Countries might fight over who gets to be best friends with the aliens which could even start wars. Also, some people might be scared or don’t want the aliens around and that could cause problems. To make it worse, if the aliens secretly have bad plans, their \"friendship\" could turn into them controlling us or taking advantage of us.\n",
      "\n",
      "At the end of it all, whether being friends with aliens makes our lives better or ruins everything depends on what both humans and aliens want, and how smart we are in handling this big space friendship.\n"
     ]
    }
   ],
   "source": [
    "import openai\n",
    "\n",
    "def summarize_text(text, prompt_version):\n",
    "    prompts = {\n",
    "        \"version_1\": f\"Summarize the following text in a concise paragraph: {text}\",\n",
    "        \"version_2\": f\"Provide a bullet-point summary of the main ideas in this text: {text}\",\n",
    "        \"version_3\": f\"Rewrite this text in simpler terms for a 10-year-old to understand: {text}\"\n",
    "    }\n",
    "    \n",
    "    prompt = prompts.get(prompt_version, prompts[\"version_1\"])\n",
    "    \n",
    "    client = openai.OpenAI()  # New API format\n",
    "    \n",
    "    response = client.chat.completions.create(\n",
    "        model=\"gpt-4\",\n",
    "        messages=[{\"role\": \"user\", \"content\": prompt}]\n",
    "    )\n",
    "    \n",
    "    return response.choices[0].message.content.strip()\n",
    "\n",
    "if __name__ == \"__main__\":\n",
    "    text = \"\"\"\n",
    "    If aliens and humans became friends, the impact on our world could be both astonishing and terrifying. \n",
    "    On the light side, intergalactic friendship could lead to groundbreaking scientific advancements, sharing of knowledge, and medical miracles. \n",
    "    Aliens might help us solve energy crises, explore distant galaxies, or even cure diseases that have plagued humanity for centuries. \n",
    "    Cultural exchanges could lead to a new era of unity, where humans broaden their perspectives beyond Earth, fostering global peace as we recognize our small place in the universe. \n",
    "    \n",
    "    However, on the dark side, such a friendship could expose humanity to existential threats. \n",
    "    If the aliens are far superior in intelligence or technology, we could become dependent on them, losing our independence and possibly our identity. \n",
    "    Political tensions might arise between nations competing for alliances with the extraterrestrials, leading to conflicts or even wars. \n",
    "    Additionally, some humans might resist or fear alien integration, leading to division and unrest. \n",
    "    Worse, if the aliens have hidden agendas, their \"friendship\" might turn into subtle control or even exploitation. \n",
    "    \n",
    "    In the end, whether alien-human friendship leads to enlightenment or destruction would depend on the intentions of both species and how wisely we navigate this cosmic relationship.\n",
    "    \"\"\"\n",
    "    \n",
    "    print(\"\\nVersion 1 Summary:\")\n",
    "    print(summarize_text(text, \"version_1\"))\n",
    "    \n",
    "    print(\"\\nVersion 2 Summary:\")\n",
    "    print(summarize_text(text, \"version_2\"))\n",
    "    \n",
    "    print(\"\\nVersion 3 Summary:\")\n",
    "    print(summarize_text(text, \"version_3\"))\n"
   ]
  },
  {
   "cell_type": "markdown",
   "metadata": {},
   "source": [
    "# **Findings from the Text Summarization Exercise**\n",
    "\n",
    "### Variations That Did Not Work Well\n",
    "While most summaries were accurate, some versions had notable issues. The bullet-point summary (Version 2) occasionally omitted key details, making the summary feel incomplete. Important nuances were sometimes lost, affecting the overall clarity of the extracted information. Similarly, the simplified version for a 10-year-old (Version 3) occasionally altered the meaning of certain ideas by oversimplifying complex concepts. While this made the text more digestible, it sometimes resulted in missing critical points that were essential to understanding the full message.\n",
    "\n",
    "Another challenge observed was minor hallucinations. In some cases, GPT generated assumptions that were not explicitly stated in the original text. For example, it occasionally inferred additional motivations behind alien interactions that were not present in the given content. This suggests that while GPT is highly capable of summarization, it can introduce speculative elements, requiring careful review of its output.\n",
    "\n",
    "### Key Learnings\n",
    "One major takeaway from this exercise is that the structure of a prompt significantly affects the quality of the generated summary. The concise paragraph summary (Version 1) performed the best, as it retained the main ideas without sacrificing essential details. This indicates that when aiming for accuracy and completeness, requesting a short yet well-structured paragraph is a more reliable approach than other formats.\n",
    "\n",
    "Additionally, this experiment reinforced the importance of prompt refinement. While AI summarization is a powerful tool, results vary based on how well the prompt is designed. Bullet-point lists can be useful for extracting key themes but may not always capture the full context. Simplified summaries are helpful for accessibility but may compromise depth. Therefore, tailoring the prompt to match the intended audience and purpose is essential.\n",
    "\n",
    "Overall, AI-generated summaries can be highly effective, but human oversight is necessary to ensure accuracy, relevance, and proper context retention. This exercise highlights the strengths and limitations of AI in text summarization and emphasizes the value of testing different approaches to optimize results."
   ]
  }
 ],
 "metadata": {
  "kernelspec": {
   "display_name": "IronhackCamp",
   "language": "python",
   "name": "python3"
  },
  "language_info": {
   "codemirror_mode": {
    "name": "ipython",
    "version": 3
   },
   "file_extension": ".py",
   "mimetype": "text/x-python",
   "name": "python",
   "nbconvert_exporter": "python",
   "pygments_lexer": "ipython3",
   "version": "3.11.11"
  }
 },
 "nbformat": 4,
 "nbformat_minor": 4
}
